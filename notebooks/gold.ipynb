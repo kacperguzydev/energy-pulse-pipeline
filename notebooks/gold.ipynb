{
 "cells": [
  {
   "cell_type": "code",
   "execution_count": 0,
   "metadata": {
    "application/vnd.databricks.v1+cell": {
     "cellMetadata": {
      "byteLimit": 2048000,
      "rowLimit": 10000
     },
     "inputWidgets": {},
     "nuid": "22485dd4-59e5-47ca-b2c4-53393a6f1174",
     "showTitle": false,
     "tableResultSettingsMap": {},
     "title": ""
    }
   },
   "outputs": [],
   "source": [
    "from pyspark.sql.functions import col, sum as sum_, avg, count\n",
    "df_silver = spark.read.format(\"delta\").load(\"/mnt/silver/energy_usage\")\n",
    "df_region_kpis = (\n",
    "    df_silver.groupBy(\"region\")\n",
    "    .agg(\n",
    "        sum_(\"total_kw\").alias(\"total_energy_kw\"),\n",
    "        avg(\"avg_kw\").alias(\"avg_energy_kw\"),\n",
    "        count(\"*\").alias(\"num_records\")\n",
    "    )\n",
    ")\n",
    "df_region_kpis.write \\\n",
    "    .format(\"delta\") \\\n",
    "    .mode(\"overwrite\") \\\n",
    "    .option(\"path\", \"/mnt/gold/region_kpis\") \\\n",
    "    .saveAsTable(\"region_kpis\")\n"
   ]
  }
 ],
 "metadata": {
  "application/vnd.databricks.v1+notebook": {
   "computePreferences": null,
   "dashboards": [],
   "environmentMetadata": {
    "base_environment": "",
    "environment_version": "1"
   },
   "inputWidgetPreferences": null,
   "language": "python",
   "notebookMetadata": {
    "pythonIndentUnit": 4
   },
   "notebookName": "gold",
   "widgets": {}
  }
 },
 "nbformat": 4,
 "nbformat_minor": 0
}