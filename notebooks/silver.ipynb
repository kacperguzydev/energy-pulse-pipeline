{
 "cells": [
  {
   "cell_type": "code",
   "execution_count": 0,
   "metadata": {
    "application/vnd.databricks.v1+cell": {
     "cellMetadata": {
      "byteLimit": 2048000,
      "rowLimit": 10000
     },
     "inputWidgets": {},
     "nuid": "c4c52551-8d82-467b-ae9f-8dd0f3ff8016",
     "showTitle": false,
     "tableResultSettingsMap": {},
     "title": ""
    }
   },
   "outputs": [],
   "source": [
    "from pyspark.sql.functions import col\n",
    "df_bronze = spark.read.format(\"delta\").load(\"/mnt/bronze/energy_usage\")\n",
    "\n",
    "df_silver = (\n",
    "    df_bronze\n",
    "    .withColumn(\"hour\", col(\"hour\").cast(\"timestamp\"))\n",
    "    .withColumn(\"total_kw\", col(\"total_kw\").cast(\"double\"))\n",
    "    .withColumn(\"avg_kw\", col(\"avg_kw\").cast(\"double\"))\n",
    "    .withColumn(\"count\", col(\"count\").cast(\"int\"))\n",
    "    .filter(col(\"region\").isNotNull())\n",
    ")\n",
    "\n",
    "df_silver.write.format(\"delta\").mode(\"overwrite\").save(\"/mnt/silver/energy_usage\")\n"
   ]
  }
 ],
 "metadata": {
  "application/vnd.databricks.v1+notebook": {
   "computePreferences": null,
   "dashboards": [],
   "environmentMetadata": {
    "base_environment": "",
    "environment_version": "1"
   },
   "inputWidgetPreferences": null,
   "language": "python",
   "notebookMetadata": {
    "pythonIndentUnit": 4
   },
   "notebookName": "silver",
   "widgets": {}
  }
 },
 "nbformat": 4,
 "nbformat_minor": 0
}